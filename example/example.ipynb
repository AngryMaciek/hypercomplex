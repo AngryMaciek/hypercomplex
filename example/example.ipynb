{
 "cells": [
  {
   "cell_type": "markdown",
   "metadata": {},
   "source": [
    "# Hypercomplex"
   ]
  },
  {
   "cell_type": "markdown",
   "metadata": {},
   "source": [
    "The following document demonstrates use cases, basic functionality and behaviour of our library:"
   ]
  },
  {
   "cell_type": "code",
   "execution_count": 1,
   "metadata": {},
   "outputs": [],
   "source": [
    "#include <iostream>\n",
    "\n",
    "// build the shared library\n",
    "int retval = \\\n",
    "    system(\"g++ -shared -o ../hypercomplex/Hypercomplex.so -fPIC ../hypercomplex/Hypercomplex.cpp -std=c++11\");\n",
    "if (retval) std::cout << \"ERROR\" << std::endl;"
   ]
  },
  {
   "cell_type": "code",
   "execution_count": 2,
   "metadata": {},
   "outputs": [],
   "source": [
    "#pragma cling add_include_path(\"../hypercomplex\")\n",
    "#pragma cling add_library_path(\"../hypercomplex\")\n",
    "#pragma cling load(\"Hypercomplex\")"
   ]
  },
  {
   "cell_type": "code",
   "execution_count": 3,
   "metadata": {},
   "outputs": [],
   "source": [
    "// include the library\n",
    "#include <Hypercomplex.h>"
   ]
  },
  {
   "cell_type": "markdown",
   "metadata": {},
   "source": [
    "Let us define two hypercomplex numbers from an algebra obtained with the Cayley-Dickson process:  \n",
    "$H_1 = (1,0,-0.5,5)$   \n",
    "$H_2 = (-2,-4,-6,0)$  \n",
    "(For simplicity of the presentation we will focus on quaternions.)"
   ]
  },
  {
   "cell_type": "code",
   "execution_count": 4,
   "metadata": {},
   "outputs": [
    {
     "name": "stdout",
     "output_type": "stream",
     "text": [
      "H1 = 1 0 -0.5 5\n",
      "H2 = -2 -4 -6 0\n"
     ]
    }
   ],
   "source": [
    "float arr1[4] = {(float)1.0,(float)0.0,(float)-0.5,(float)5.0};\n",
    "Hypercomplex H1 = Hypercomplex(4, arr1);\n",
    "std::cout << \"H1 = \" << H1 << std::endl;\n",
    "\n",
    "float arr2[4] = {(float)-2.0,(float)-4.0,(float)-6.0,(float)0.0};\n",
    "Hypercomplex H2 = Hypercomplex(4, arr2);\n",
    "std::cout << \"H2 = \" << H2 << std::endl;"
   ]
  },
  {
   "cell_type": "markdown",
   "metadata": {},
   "source": [
    "Obviously, these are two distinct numbers:"
   ]
  },
  {
   "cell_type": "code",
   "execution_count": 5,
   "metadata": {},
   "outputs": [
    {
     "name": "stdout",
     "output_type": "stream",
     "text": [
      "H1 == H2: false\n",
      "H1 != H2: true\n"
     ]
    }
   ],
   "source": [
    "std::cout << std::boolalpha;\n",
    "std::cout << \"H1 == H2: \" << (bool)(H1==H2) << std::endl;\n",
    "std::cout << \"H1 != H2: \" << (bool)(H1!=H2) << std::endl;"
   ]
  },
  {
   "cell_type": "markdown",
   "metadata": {},
   "source": [
    "For every hypercomplex number we may extract its' real as well as imaginary part:  \n",
    "$Re(H) := (H^{(0)}, 0, 0, 0, ...)$  \n",
    "$Im(H) := (0, H^{(1)}, H^{(2)}, H^{(3)}, ...)$"
   ]
  },
  {
   "cell_type": "code",
   "execution_count": 6,
   "metadata": {},
   "outputs": [
    {
     "name": "stdout",
     "output_type": "stream",
     "text": [
      "Re(H1) = 1 0 0 0\n",
      "Im(H1) = 0 0 -0.5 5\n"
     ]
    }
   ],
   "source": [
    "std::cout << \"Re(H1) = \" << Re(H1) << std::endl;\n",
    "std::cout << \"Im(H1) = \" << Im(H1) << std::endl;"
   ]
  },
  {
   "cell_type": "markdown",
   "metadata": {},
   "source": [
    "And even ask for its' conjugate(!)  \n",
    "Conjugates of hypercomplex numbers are defined to have the same magnitudes as the original ones but with the sign of the imaginary components changed:  \n",
    "$\\bar{H} := (H^{(0)}, -H^{(1)}, -H^{(2)}, -H^{(3)}, ...)$"
   ]
  },
  {
   "cell_type": "markdown",
   "metadata": {},
   "source": [
    "In case you forgot what is the dimensionality of our objects, don't worry - we got your back:"
   ]
  },
  {
   "cell_type": "code",
   "execution_count": 7,
   "metadata": {},
   "outputs": [
    {
     "name": "stdout",
     "output_type": "stream",
     "text": [
      "dim(H1) = 4\n"
     ]
    }
   ],
   "source": [
    "std::cout << \"dim(H1) = \" << H1._() << std::endl;"
   ]
  },
  {
   "cell_type": "markdown",
   "metadata": {},
   "source": [
    "Did you already forget what is the 3rd component of our second hypercomplex number?  \n",
    "You may acces them all directly:"
   ]
  },
  {
   "cell_type": "code",
   "execution_count": 8,
   "metadata": {},
   "outputs": [
    {
     "name": "stdout",
     "output_type": "stream",
     "text": [
      "H2(2) = -6\n"
     ]
    }
   ],
   "source": [
    "std::cout << \"H2(2) = \" << H2[2] << std::endl;"
   ]
  },
  {
   "cell_type": "markdown",
   "metadata": {},
   "source": [
    "Do you wish you could represent your objects in different systems? Nothing easier than that.  \n",
    "Embedding lower-dimensional hypercomplex numbers into higher dimensional algebras is a piece of cake!"
   ]
  },
  {
   "cell_type": "code",
   "execution_count": 9,
   "metadata": {},
   "outputs": [
    {
     "name": "stdout",
     "output_type": "stream",
     "text": [
      "H1 = 1 0 -0.5 5\n",
      "Oct(H1) = 1 0 -0.5 5 0 0 0 0\n"
     ]
    }
   ],
   "source": [
    "std::cout << \"H1 = \" << H1 << std::endl;\n",
    "std::cout << \"Oct(H1) = \" << H1.expand(8) << std::endl;"
   ]
  },
  {
   "cell_type": "markdown",
   "metadata": {},
   "source": [
    "For each of the hypercomplex numbers we might calculate its' Euclidean norm:  \n",
    "$H = (H^{(0)},...,H^{(n-1)})$  \n",
    "$||H||_2 := \\sqrt{H^{(0)}\\times H^{(0)} + ... + H^{(n-1)} \\times H^{(n-1)} }$"
   ]
  },
  {
   "cell_type": "code",
   "execution_count": 10,
   "metadata": {},
   "outputs": [
    {
     "name": "stdout",
     "output_type": "stream",
     "text": [
      "||H2|| = 7.48331\n"
     ]
    }
   ],
   "source": [
    "std::cout << \"||H2|| = \" << H2.norm() << std::endl;"
   ]
  },
  {
   "cell_type": "markdown",
   "metadata": {},
   "source": [
    "Having a defined norm for every non-zero hypercomplex number we may calculate its' inverse according to the following formula:  \n",
    "$H^{-1} = \\frac{\\bar{H}}{||H||_2^2}$"
   ]
  },
  {
   "cell_type": "code",
   "execution_count": 11,
   "metadata": {},
   "outputs": [
    {
     "name": "stdout",
     "output_type": "stream",
     "text": [
      "H2^-1 = -0.0357143 0.0714286 0.107143 -0\n"
     ]
    }
   ],
   "source": [
    "std::cout << \"H2^-1 = \" << H2.inv() << std::endl;"
   ]
  },
  {
   "cell_type": "markdown",
   "metadata": {},
   "source": [
    "Arithmetic operations on hypercomplex numbers are not that complicated.  \n",
    "* Addition is carried out over respective elements:  \n",
    " $\\forall_{H_A, H_B}: [H_A+H_B]^{(i)} = H_A^{(i)} + H_B^{(i)}$\n",
    "* Subtraction is carried out over respective elements:  \n",
    " $\\forall_{H_A, H_B}: [H_A-H_B]^{(i)} = H_A^{(i)} - H_B^{(i)}$\n",
    "* A general formula for multiplication of hypercomplex numbers may be derived as follows:  \n",
    " Let $H_A$ and $H_B$ be elements from a Cayley-Dickson algebra of dimension $2^n$.  \n",
    " Both numbers may be interpreted as ordered pairs of elements from a $2^{(n-1)}$-dimensional algebra: $H_A = (a,b)$ and $H_A = (c,d)$.  \n",
    " Such a representation yields a recursive multiplication algorithm: $H_A \\times H_B = (a,b)(c,d) = (ac-\\bar{d}b,da+b\\bar{c})$.  \n",
    " Hypercomplex multiplication is indeed implemented as a recursive operator with the base condition of multiplying real numbers.  \n",
    " **Disclaimer:** Various distinct definitions of the multiplication formula exist ([here](https://en.wikipedia.org/wiki/Cayley%E2%80%93Dickson_construction), [here](https://ncatlab.org/nlab/show/Cayley-Dickson+construction) or [here](http://www.zipcon.net/~swhite/docs/math/quaternions/Cayley-Dickson.html)). They all lead to a proper norm upon multiplying a number with it's conjugate and the choice is arbitrary. In case you prefer another one, please adjust the `operator*()` function's body  in the *Hypercomplex.cpp* file (six lines of code).\n",
    "* Knowing that inverse elements of Hypercomplex numbers exist a division operation is implementat as a multiplication with an inverse of an operand:  \n",
    " Let $H_A$ and $H_B$ be elements from a Cayley-Dickson algebra of dimension $2^n$, $H_B \\neq 0$.  \n",
    " $\\frac{H_A}{H_B} = H_A \\times \\frac{1}{H_B}$  \n",
    " Notice the order of the operands, as commutativity is no longer a given."
   ]
  },
  {
   "cell_type": "code",
   "execution_count": 12,
   "metadata": {},
   "outputs": [
    {
     "name": "stdout",
     "output_type": "stream",
     "text": [
      "H1 + H2 = -1 -4 -6.5 5\n",
      "H1 - H2 = 3 4 5.5 5\n",
      "H1 * H2 = -5 26 -25 -12\n",
      "H1 / H2 = 0.0178571 -0.464286 0.482143 -0.142857\n"
     ]
    }
   ],
   "source": [
    "std::cout << \"H1 + H2 = \" << H1 + H2 << std::endl;\n",
    "std::cout << \"H1 - H2 = \" << H1 - H2 << std::endl;\n",
    "std::cout << \"H1 * H2 = \" << H1 * H2 << std::endl;\n",
    "std::cout << \"H1 / H2 = \" << H1 / H2 << std::endl;"
   ]
  },
  {
   "cell_type": "markdown",
   "metadata": {},
   "source": [
    "Raising a hypercomplex number to a natural power is our little cherry on top ($H^n, n\\in N$).  \n",
    "This operation is implemented simply as a repetitive multiplication.  \n",
    "Note that the products are evaluated from LHS to RHS:  \n",
    "$H^n = (...((H \\times H) \\times H)...)$  \n",
    "However, all *Cayley-Dickson algebras* are power-associative, therefore the order of operations does not matter."
   ]
  },
  {
   "cell_type": "code",
   "execution_count": 13,
   "metadata": {},
   "outputs": [
    {
     "name": "stdout",
     "output_type": "stream",
     "text": [
      "H2^4 = 1472 -1536 -2304 0\n"
     ]
    }
   ],
   "source": [
    "std::cout << \"H2^4 = \" << (H2^4) << std::endl;"
   ]
  },
  {
   "cell_type": "markdown",
   "metadata": {},
   "source": [
    "Last, but not least: a very special function linked to the magical Euler number - hypercomplex exponentiation:  \n",
    "\n",
    "$e^H = e^{Re(H)+Im(H)} = e^{Re(H)} \\times (cos||Im(H)||_2 + \\frac{Im(H)}{||Im(H)||_2} \\times sin||Im(H)||_2)$\n",
    "\n",
    "Regardless of the algebra hypercomplex numbers above are multiplied by scalars, therefore associativity and commutativity still holds for these formulas.  \n",
    "For that reason `exp` function is implemented efficiently with as few operations and variables as possible."
   ]
  },
  {
   "cell_type": "code",
   "execution_count": 14,
   "metadata": {},
   "outputs": [
    {
     "name": "stdout",
     "output_type": "stream",
     "text": [
      "H1 = 1 0 -0.5 5\n",
      "e^H1 = 0.83583 -0 0.257375 -2.57375\n"
     ]
    }
   ],
   "source": [
    "std::cout << \"H1 = \" << H1 << std::endl;\n",
    "std::cout << \"e^H1 = \" << exp(H1) << std::endl;"
   ]
  },
  {
   "cell_type": "markdown",
   "metadata": {},
   "source": [
    "---"
   ]
  }
 ],
 "metadata": {
  "kernelspec": {
   "display_name": "C++11",
   "language": "C++11",
   "name": "xcpp11"
  },
  "language_info": {
   "codemirror_mode": "text/x-c++src",
   "file_extension": ".cpp",
   "mimetype": "text/x-c++src",
   "name": "c++",
   "version": "11"
  }
 },
 "nbformat": 4,
 "nbformat_minor": 4
}
