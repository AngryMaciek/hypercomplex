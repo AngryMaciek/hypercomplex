{
 "cells": [
  {
   "cell_type": "markdown",
   "metadata": {},
   "source": [
    "# Hypercomplex"
   ]
  },
  {
   "cell_type": "code",
   "execution_count": 6,
   "metadata": {},
   "outputs": [],
   "source": [
    "#include <iostream>\n",
    "\n",
    "// build the shared library\n",
    "int retval = \\\n",
    "    system(\"g++ -shared -o ../hypercomplex/Hypercomplex.so -fPIC ../hypercomplex/Hypercomplex.cpp -std=c++11\");\n",
    "if (retval) std::cout << \"ERROR\" << std::endl;"
   ]
  },
  {
   "cell_type": "code",
   "execution_count": 7,
   "metadata": {},
   "outputs": [],
   "source": [
    "#pragma cling add_include_path(\"../hypercomplex\")\n",
    "#pragma cling add_library_path(\"../hypercomplex\")\n",
    "#pragma cling load(\"Hypercomplex\")"
   ]
  },
  {
   "cell_type": "code",
   "execution_count": 8,
   "metadata": {},
   "outputs": [],
   "source": [
    "// include the library\n",
    "#include <Hypercomplex.h>"
   ]
  },
  {
   "cell_type": "markdown",
   "metadata": {},
   "source": [
    "Let us define two hypercomplex numbers from an algebra obtained with the Cayley-Dickson process: $H_1 = (1,0,-0.5,5)$ and $H_2 = (-2,-4,-6,0)$.  \n",
    "(For simplicity of the presentation we will focus on quaternions.)"
   ]
  },
  {
   "cell_type": "code",
   "execution_count": 17,
   "metadata": {},
   "outputs": [
    {
     "name": "stdout",
     "output_type": "stream",
     "text": [
      "H1: 1 0 -0.5 5\n",
      "H2: -2 -4 -6 0\n"
     ]
    }
   ],
   "source": [
    "float arr1[4] = {(float)1.0,(float)0.0,(float)-0.5,(float)5.0};\n",
    "Hypercomplex H1 = Hypercomplex(4, arr1);\n",
    "std::cout << \"H1: \" << H1 << std::endl;\n",
    "\n",
    "float arr2[4] = {(float)-2.0,(float)-4.0,(float)-6.0,(float)0.0};\n",
    "Hypercomplex H2 = Hypercomplex(4, arr2);\n",
    "std::cout << \"H2: \" << H2 << std::endl;"
   ]
  },
  {
   "cell_type": "markdown",
   "metadata": {},
   "source": [
    "For every hypercomplex number we may extract its' real as well as imaginary part:"
   ]
  },
  {
   "cell_type": "code",
   "execution_count": 19,
   "metadata": {},
   "outputs": [
    {
     "name": "stdout",
     "output_type": "stream",
     "text": [
      "Re[H2]: 1 0 0 0\n",
      "Im[H2]: 0 0 -0.5 5\n"
     ]
    }
   ],
   "source": [
    "std::cout << \"Re[H2]: \" << Re(H1) << std::endl;\n",
    "std::cout << \"Im[H2]: \" << Im(H1) << std::endl;"
   ]
  },
  {
   "cell_type": "markdown",
   "metadata": {},
   "source": [
    "---"
   ]
  }
 ],
 "metadata": {
  "kernelspec": {
   "display_name": "C++11",
   "language": "C++11",
   "name": "xcpp11"
  },
  "language_info": {
   "codemirror_mode": "text/x-c++src",
   "file_extension": ".cpp",
   "mimetype": "text/x-c++src",
   "name": "c++",
   "version": "11"
  }
 },
 "nbformat": 4,
 "nbformat_minor": 4
}
