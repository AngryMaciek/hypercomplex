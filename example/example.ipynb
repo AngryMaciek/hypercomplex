{
 "cells": [
  {
   "cell_type": "markdown",
   "metadata": {},
   "source": [
    "# Hypercomplex"
   ]
  },
  {
   "cell_type": "markdown",
   "metadata": {},
   "source": [
    "The following document demonstrates use cases, basic functionality and behaviour of our library:"
   ]
  },
  {
   "cell_type": "code",
   "execution_count": null,
   "metadata": {},
   "outputs": [],
   "source": [
    "#include <iostream>\n",
    "\n",
    "// build the shared library\n",
    "int retval = \\\n",
    "    system(\"g++ -shared -o ../hypercomplex/Hypercomplex.so -fPIC ../hypercomplex/Hypercomplex.cpp -std=c++11\");\n",
    "if (retval) std::cout << \"ERROR\" << std::endl;"
   ]
  },
  {
   "cell_type": "code",
   "execution_count": null,
   "metadata": {},
   "outputs": [],
   "source": [
    "#pragma cling add_include_path(\"../hypercomplex\")\n",
    "#pragma cling add_library_path(\"../hypercomplex\")\n",
    "#pragma cling load(\"Hypercomplex\")"
   ]
  },
  {
   "cell_type": "code",
   "execution_count": null,
   "metadata": {},
   "outputs": [],
   "source": [
    "// include the library\n",
    "#include <Hypercomplex.h>"
   ]
  },
  {
   "cell_type": "markdown",
   "metadata": {},
   "source": [
    "Let us define two hypercomplex numbers from an algebra obtained with the Cayley-Dickson process: $H_1 = (1,0,-0.5,5)$ and $H_2 = (-2,-4,-6,0)$.  \n",
    "(For simplicity of the presentation we will focus on quaternions.)"
   ]
  },
  {
   "cell_type": "code",
   "execution_count": null,
   "metadata": {},
   "outputs": [],
   "source": [
    "float arr1[4] = {(float)1.0,(float)0.0,(float)-0.5,(float)5.0};\n",
    "Hypercomplex H1 = Hypercomplex(4, arr1);\n",
    "std::cout << \"H1: \" << H1 << std::endl;\n",
    "\n",
    "float arr2[4] = {(float)-2.0,(float)-4.0,(float)-6.0,(float)0.0};\n",
    "Hypercomplex H2 = Hypercomplex(4, arr2);\n",
    "std::cout << \"H2: \" << H2 << std::endl;"
   ]
  },
  {
   "cell_type": "markdown",
   "metadata": {},
   "source": [
    "Obviously, these are two distinct numbers:"
   ]
  },
  {
   "cell_type": "code",
   "execution_count": null,
   "metadata": {},
   "outputs": [],
   "source": [
    "std::cout << std::boolalpha;\n",
    "std::cout << \"H1 == H2: \" << (bool)(H1==H2) << std::endl;\n",
    "std::cout << \"H1 != H2: \" << (bool)(H1!=H2) << std::endl;"
   ]
  },
  {
   "cell_type": "markdown",
   "metadata": {},
   "source": [
    "For every hypercomplex number we may extract its' real as well as imaginary part:  \n",
    "$Re(H) := (H_0, 0, 0, 0, ...)$  \n",
    "$Im(H) := (0, H_1, H_2, H_3, ...)$"
   ]
  },
  {
   "cell_type": "code",
   "execution_count": null,
   "metadata": {},
   "outputs": [],
   "source": [
    "std::cout << \"Re(H1): \" << Re(H1) << std::endl;\n",
    "std::cout << \"Im(H1): \" << Im(H1) << std::endl;"
   ]
  },
  {
   "cell_type": "markdown",
   "metadata": {},
   "source": [
    "or even ask for its' conjugate(!)  \n",
    "Conjugates of hypercomplex numbers are defined to have the same magnitudes as the original ones but with the sign of the imaginary components changed:  \n",
    "$\\bar{H} := (H_0, -H_1, -H_2, -H_3, ...)$"
   ]
  },
  {
   "cell_type": "markdown",
   "metadata": {},
   "source": [
    "In case you forgot what is the dimensionality of our objects, don't worry - we got your back:"
   ]
  },
  {
   "cell_type": "code",
   "execution_count": null,
   "metadata": {},
   "outputs": [],
   "source": [
    "std::cout << \"dim(H1): \" << H1._() << std::endl;"
   ]
  },
  {
   "cell_type": "markdown",
   "metadata": {},
   "source": [
    "Did you already forget what is the 3rd component of our second hypercomplex number?  \n",
    "You may acces them all directly:"
   ]
  },
  {
   "cell_type": "code",
   "execution_count": null,
   "metadata": {},
   "outputs": [],
   "source": [
    "std::cout << \"H2[2]: \" << H2[2] << std::endl;"
   ]
  },
  {
   "cell_type": "markdown",
   "metadata": {},
   "source": [
    "Do you wish you could represent your objects in different systems? Nothing easier than that.  \n",
    "Embedding lower-dimensional hypercomplex numbers into higher dimensional algebras is a piece of cake!"
   ]
  },
  {
   "cell_type": "code",
   "execution_count": null,
   "metadata": {},
   "outputs": [],
   "source": [
    "std::cout << \"H1: \" << H1 << std::endl;\n",
    "std::cout << \"Oct(H1): \" << H1.expand(8) << std::endl;"
   ]
  },
  {
   "cell_type": "markdown",
   "metadata": {},
   "source": [
    "Arithmetic operations on hypercomplex numbers are not that complicated.  \n",
    "* 1\n",
    "* 2\n",
    "* 3\n",
    "* 4"
   ]
  },
  {
   "cell_type": "markdown",
   "metadata": {},
   "source": [
    "Raising a hypercomplex number to a natural power is our little cherry on top ($H^n, n\\in N$).  \n",
    "This operation is implemented simply as a repetitive multiplication."
   ]
  },
  {
   "cell_type": "code",
   "execution_count": null,
   "metadata": {},
   "outputs": [],
   "source": [
    "std::cout << \"H2^4: \" << (H2^4) << std::endl;"
   ]
  },
  {
   "cell_type": "markdown",
   "metadata": {},
   "source": [
    "For each of the hypercomplex numbers we might calculate its' Euclidean norm:  \n",
    "$H = (H_1,...,H_n)$  \n",
    "$||H||_2 := \\sqrt{H_1^2 + ... + H_n^2}$"
   ]
  },
  {
   "cell_type": "code",
   "execution_count": null,
   "metadata": {},
   "outputs": [],
   "source": [
    "std::cout << \"||H2||: \" << H2.norm() << std::endl;"
   ]
  },
  {
   "cell_type": "markdown",
   "metadata": {},
   "source": [
    "Having a defined norm for every non-zero hypercomplex number we may calculate its' inverse according to the following formula:  \n",
    "$H^{-1} = \\frac{\\bar{H}}{||H||_2^2}$"
   ]
  },
  {
   "cell_type": "code",
   "execution_count": null,
   "metadata": {},
   "outputs": [],
   "source": [
    "std::cout << \"H2^-1 \" << H2.inv() << std::endl;"
   ]
  },
  {
   "cell_type": "markdown",
   "metadata": {},
   "source": [
    "EXP / LOG"
   ]
  },
  {
   "cell_type": "code",
   "execution_count": null,
   "metadata": {},
   "outputs": [],
   "source": [
    "std::cout << \"e^H1 \" << exp(H1) << std::endl;\n",
    "std::cout << \"ln(H1) \" << log(H1) << std::endl;"
   ]
  },
  {
   "cell_type": "markdown",
   "metadata": {},
   "source": [
    "---"
   ]
  }
 ],
 "metadata": {
  "kernelspec": {
   "display_name": "C++11",
   "language": "C++11",
   "name": "xcpp11"
  },
  "language_info": {
   "codemirror_mode": "text/x-c++src",
   "file_extension": ".cpp",
   "mimetype": "text/x-c++src",
   "name": "c++",
   "version": "11"
  }
 },
 "nbformat": 4,
 "nbformat_minor": 4
}
