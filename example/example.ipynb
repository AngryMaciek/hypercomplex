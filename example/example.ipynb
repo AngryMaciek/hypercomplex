{
 "cells": [
  {
   "cell_type": "markdown",
   "metadata": {},
   "source": [
    "# Hypercomplex"
   ]
  },
  {
   "cell_type": "code",
   "execution_count": 6,
   "metadata": {},
   "outputs": [],
   "source": [
    "#include <iostream>\n",
    "\n",
    "// build the shared library\n",
    "int retval = system(\"g++ -shared -o ../hypercomplex/Hypercomplex.so -fPIC ../hypercomplex/Hypercomplex.cpp -std=c++11\");\n",
    "if (retval) std::cout << \"ERROR\" << std::endl;"
   ]
  },
  {
   "cell_type": "code",
   "execution_count": 7,
   "metadata": {},
   "outputs": [],
   "source": [
    "#pragma cling add_include_path(\"../hypercomplex\")\n",
    "#pragma cling add_library_path(\"../hypercomplex\")\n",
    "#pragma cling load(\"Hypercomplex\")"
   ]
  },
  {
   "cell_type": "code",
   "execution_count": 8,
   "metadata": {},
   "outputs": [],
   "source": [
    "// include the library\n",
    "#include <Hypercomplex.h>"
   ]
  },
  {
   "cell_type": "code",
   "execution_count": 9,
   "metadata": {},
   "outputs": [],
   "source": [
    "float arr1[4] = {(float)1.0,(float)2.0,(float)3.0,(float)4.0};\n",
    "Hypercomplex H1 = Hypercomplex(4, arr1);"
   ]
  },
  {
   "cell_type": "code",
   "execution_count": 10,
   "metadata": {},
   "outputs": [
    {
     "name": "stdout",
     "output_type": "stream",
     "text": [
      "1 2 3 4"
     ]
    }
   ],
   "source": [
    "std::cout << H1;"
   ]
  },
  {
   "cell_type": "markdown",
   "metadata": {},
   "source": [
    "---"
   ]
  }
 ],
 "metadata": {
  "kernelspec": {
   "display_name": "C++11",
   "language": "C++11",
   "name": "xcpp11"
  },
  "language_info": {
   "codemirror_mode": "text/x-c++src",
   "file_extension": ".cpp",
   "mimetype": "text/x-c++src",
   "name": "c++",
   "version": "11"
  }
 },
 "nbformat": 4,
 "nbformat_minor": 4
}
